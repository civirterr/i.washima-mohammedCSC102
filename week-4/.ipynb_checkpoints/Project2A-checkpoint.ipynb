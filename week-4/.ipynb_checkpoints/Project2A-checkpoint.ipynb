{
 "cells": [
  {
   "cell_type": "code",
   "execution_count": 7,
   "id": "a5a4610e",
   "metadata": {},
   "outputs": [
    {
     "name": "stdout",
     "output_type": "stream",
     "text": [
      "What is the value of A?2\n",
      "What is the value of B?2\n",
      "What is the value of C?2\n",
      "No real roots\n"
     ]
    }
   ],
   "source": [
    "#Input the values of A,B and C\n",
    "A= int(input(\"What is the value of A?\"))\n",
    "B= int(input(\"What is the value of B?\"))\n",
    "C= int(input(\"What is the value of C?\"))\n",
    "\n",
    "# Calculate the discriminant D\n",
    "D= B**2 - 4*A*C\n",
    "\n",
    "#Finding roots when D is less than 0\n",
    "if D < 0 :\n",
    "    print(\"No real roots\")\n",
    "else :\n",
    "    X1 = (-B + sqrt(D)) / (2*A)\n",
    "    X2 = (-B - sqrt(D)) / (2*A)\n",
    "    if Delta == 0:\n",
    "        print(\"One real root:\", X1)\n",
    "    else:\n",
    "        X3 = (-B / (3*A)) - ((X1 + X2) / 3)\n",
    "        print(\"Roots:\", X1, X2, X3)    \n",
    "\n"
   ]
  },
  {
   "cell_type": "code",
   "execution_count": null,
   "id": "e7514e5b",
   "metadata": {},
   "outputs": [],
   "source": []
  }
 ],
 "metadata": {
  "kernelspec": {
   "display_name": "Python 3 (ipykernel)",
   "language": "python",
   "name": "python3"
  },
  "language_info": {
   "codemirror_mode": {
    "name": "ipython",
    "version": 3
   },
   "file_extension": ".py",
   "mimetype": "text/x-python",
   "name": "python",
   "nbconvert_exporter": "python",
   "pygments_lexer": "ipython3",
   "version": "3.10.9"
  }
 },
 "nbformat": 4,
 "nbformat_minor": 5
}
