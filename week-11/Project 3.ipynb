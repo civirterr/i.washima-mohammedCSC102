{
 "cells": [
  {
   "cell_type": "code",
   "execution_count": 1,
   "id": "f360d250",
   "metadata": {},
   "outputs": [],
   "source": [
    "import csv\n",
    "\n",
    "class Categories:\n",
    "    def __init__(self):\n",
    "        self.categories = {\n",
    "            'Lager': ['33 Export', 'Desperados', 'Goldberg', 'Gulder', 'Heineken', 'Star'],\n",
    "            'Stout': ['Legend', 'Turbo King', 'Williams'],\n",
    "            'Non-Alcoholic': ['Maltina', 'Amstel Malta', 'Malta Gold', 'Fayrouz']\n",
    "        }\n",
    "\n",
    "    def save_to_csv(self, filename):\n",
    "        with open(filename, 'w', newline='') as csvfile:\n",
    "            writer = csv.writer(csvfile)\n",
    "            writer.writerow(['Category', 'Drink'])\n",
    "\n",
    "            for category, drinks in self.categories.items():\n",
    "                for drink in drinks:\n",
    "                    writer.writerow([category, drink])\n",
    "\n",
    "# Main program\n",
    "drinkcategories = Categories()\n",
    "drinkcategories.save_to_csv('drinkcategories.csv')\n"
   ]
  },
  {
   "cell_type": "code",
   "execution_count": null,
   "id": "ddc9d9bd",
   "metadata": {},
   "outputs": [],
   "source": []
  },
  {
   "cell_type": "code",
   "execution_count": null,
   "id": "c860b499",
   "metadata": {},
   "outputs": [],
   "source": []
  }
 ],
 "metadata": {
  "kernelspec": {
   "display_name": "Python 3 (ipykernel)",
   "language": "python",
   "name": "python3"
  },
  "language_info": {
   "codemirror_mode": {
    "name": "ipython",
    "version": 3
   },
   "file_extension": ".py",
   "mimetype": "text/x-python",
   "name": "python",
   "nbconvert_exporter": "python",
   "pygments_lexer": "ipython3",
   "version": "3.10.9"
  }
 },
 "nbformat": 4,
 "nbformat_minor": 5
}
