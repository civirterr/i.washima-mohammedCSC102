{
 "cells": [
  {
   "cell_type": "code",
   "execution_count": null,
   "id": "7f5285d0",
   "metadata": {},
   "outputs": [],
   "source": [
    "class order():\n",
    "    def stock(self, x):\n",
    "        stock = 80\n",
    "        if x>80:\n",
    "            print(\"Select quantity less than previous\")\n",
    "        else:\n",
    "            print(\"The cost of your order is{}, x\")\n",
    "    def price(self):\n",
    "        price=50\n",
    "        \n",
    "x = input(\"How many oranges do you want to buy?\")\n",
    "obj = order()\n",
    "obj.stock(x)\n",
    "print(\"Thank you, for your patronage\")"
   ]
  }
 ],
 "metadata": {
  "kernelspec": {
   "display_name": "Python 3 (ipykernel)",
   "language": "python",
   "name": "python3"
  },
  "language_info": {
   "codemirror_mode": {
    "name": "ipython",
    "version": 3
   },
   "file_extension": ".py",
   "mimetype": "text/x-python",
   "name": "python",
   "nbconvert_exporter": "python",
   "pygments_lexer": "ipython3",
   "version": "3.10.9"
  }
 },
 "nbformat": 4,
 "nbformat_minor": 5
}
