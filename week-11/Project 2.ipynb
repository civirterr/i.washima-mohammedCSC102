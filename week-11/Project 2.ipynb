{
 "cells": [
  {
   "cell_type": "code",
   "execution_count": 1,
   "id": "7354d2d0",
   "metadata": {},
   "outputs": [
    {
     "name": "stdout",
     "output_type": "stream",
     "text": [
      "Select a shape:\n",
      "1. Trapezium\n",
      "2. Rhombus\n",
      "3. Parallelogram\n",
      "4. Cube\n",
      "5. Cylinder\n",
      "Enter your choice (1-5): 2\n",
      "Enter the length of the first diagonal: 2\n",
      "Enter the length of the second diagonal: 3\n",
      "The area of the rhombus is: 3.0\n"
     ]
    }
   ],
   "source": [
    "import math\n",
    "\n",
    "class Calculate:\n",
    "    def trapezium(self):\n",
    "        height = float(input(\"Enter the height of the trapezium: \"))\n",
    "        base1 = float(input(\"Enter the length of the first base: \"))\n",
    "        base2 = float(input(\"Enter the length of the second base: \"))\n",
    "        area = height / 2 * (base1 + base2)\n",
    "        print(\"The area of the trapezium is:\", area)\n",
    "\n",
    "    def rhombus(self):\n",
    "        diagonal1 = float(input(\"Enter the length of the first diagonal: \"))\n",
    "        diagonal2 = float(input(\"Enter the length of the second diagonal: \"))\n",
    "        area = 0.5 * diagonal1 * diagonal2\n",
    "        print(\"The area of the rhombus is:\", area)\n",
    "\n",
    "    def parallelogram(self):\n",
    "        base = float(input(\"Enter the length of the base: \"))\n",
    "        altitude = float(input(\"Enter the altitude: \"))\n",
    "        area = base * altitude\n",
    "        print(\"The area of the parallelogram is:\", area)\n",
    "\n",
    "    def cube(self):\n",
    "        side = float(input(\"Enter the length of the side: \"))\n",
    "        area = 6 * side ** 2\n",
    "        print(\"The surface area of the cube is:\", area)\n",
    "\n",
    "    def cylinder(self):\n",
    "        radius = float(input(\"Enter the radius of the cylinder: \"))\n",
    "        height = float(input(\"Enter the height of the cylinder: \"))\n",
    "        volume = math.pi * radius ** 2 * height\n",
    "        print(\"The volume of the cylinder is:\", volume)\n",
    "\n",
    "# Main program\n",
    "calculate = Calculate()\n",
    "\n",
    "print(\"Select a shape:\")\n",
    "print(\"1. Trapezium\")\n",
    "print(\"2. Rhombus\")\n",
    "print(\"3. Parallelogram\")\n",
    "print(\"4. Cube\")\n",
    "print(\"5. Cylinder\")\n",
    "\n",
    "choice = int(input(\"Enter your choice (1-5): \"))\n",
    "\n",
    "if choice == 1:\n",
    "    calculate.trapezium()\n",
    "elif choice == 2:\n",
    "    calculate.rhombus()\n",
    "elif choice == 3:\n",
    "    calculate.parallelogram()\n",
    "elif choice == 4:\n",
    "    calculate.cube()\n",
    "elif choice == 5:\n",
    "    calculate.cylinder()\n",
    "else:\n",
    "    print(\"Invalid choice. Please try again.\")\n"
   ]
  },
  {
   "cell_type": "code",
   "execution_count": null,
   "id": "b1c14f27",
   "metadata": {},
   "outputs": [],
   "source": []
  }
 ],
 "metadata": {
  "kernelspec": {
   "display_name": "Python 3 (ipykernel)",
   "language": "python",
   "name": "python3"
  },
  "language_info": {
   "codemirror_mode": {
    "name": "ipython",
    "version": 3
   },
   "file_extension": ".py",
   "mimetype": "text/x-python",
   "name": "python",
   "nbconvert_exporter": "python",
   "pygments_lexer": "ipython3",
   "version": "3.10.9"
  }
 },
 "nbformat": 4,
 "nbformat_minor": 5
}
