{
 "cells": [
  {
   "cell_type": "code",
   "execution_count": 5,
   "id": "50b4ba49",
   "metadata": {},
   "outputs": [
    {
     "name": "stdout",
     "output_type": "stream",
     "text": [
      "put in the value of p10000000000\n",
      "what is the value of r?20\n",
      "what is the value of t?10\n",
      "30000000000.0\n"
     ]
    }
   ],
   "source": [
    "# Python code to find Simple Interest\n",
    "P= int(input(\"put in the value of p\"))\n",
    "R= int(input(\"what is the value of r?\"))\n",
    "T= int(input(\"what is the value of t?\"))\n",
    "\n",
    "Rate= R/100\n",
    "mul= T*Rate\n",
    "add= 1+mul\n",
    "A= P*add\n",
    "\n",
    "print(A)"
   ]
  },
  {
   "cell_type": "code",
   "execution_count": 7,
   "id": "7a78df9a",
   "metadata": {},
   "outputs": [
    {
     "name": "stdout",
     "output_type": "stream",
     "text": [
      "put in the value of p2000\n",
      "what is the value of r?3\n",
      "what is the value of t?2\n",
      "put in the value of n2\n",
      "78125.0\n"
     ]
    }
   ],
   "source": [
    "# Python code to find Compound Interest\n",
    "P= int(input(\"put in the value of p\"))\n",
    "R= int(input(\"what is the value of r?\"))\n",
    "T= int(input(\"what is the value of t?\"))\n",
    "n= int(input(\"put in the value of n\"))\n",
    "\n",
    "Rate= R/n\n",
    "add= 1+Rate\n",
    "power= n*T\n",
    "mul= add**power\n",
    "amm= P*mul\n",
    "\n",
    "print(amm)"
   ]
  },
  {
   "cell_type": "code",
   "execution_count": 8,
   "id": "6a6c3632",
   "metadata": {},
   "outputs": [
    {
     "name": "stdout",
     "output_type": "stream",
     "text": [
      "put in the value of p2000\n",
      "what is the value of r?3\n",
      "what is the value of t?2\n",
      "put in the value of n4\n",
      "input the value of M5\n",
      "2319036.865234375\n"
     ]
    }
   ],
   "source": [
    "# Python code to find Annuity Plan\n",
    "P= int(input(\"put in the value of p\"))\n",
    "R= int(input(\"what is the value of r?\"))\n",
    "T= int(input(\"what is the value of t?\"))\n",
    "n= int(input(\"put in the value of n\"))\n",
    "M= int(input(\"input the value of M\"))\n",
    "\n",
    "Rate= R/n\n",
    "add= 1+Rate\n",
    "power= n*T\n",
    "mul= add**power\n",
    "sub= mul-1\n",
    "div= sub/Rate\n",
    "A= P*M*T*div\n",
    "\n",
    "print(A)"
   ]
  },
  {
   "cell_type": "code",
   "execution_count": null,
   "id": "b9bc6642",
   "metadata": {},
   "outputs": [],
   "source": []
  }
 ],
 "metadata": {
  "kernelspec": {
   "display_name": "Python 3 (ipykernel)",
   "language": "python",
   "name": "python3"
  },
  "language_info": {
   "codemirror_mode": {
    "name": "ipython",
    "version": 3
   },
   "file_extension": ".py",
   "mimetype": "text/x-python",
   "name": "python",
   "nbconvert_exporter": "python",
   "pygments_lexer": "ipython3",
   "version": "3.10.9"
  }
 },
 "nbformat": 4,
 "nbformat_minor": 5
}
