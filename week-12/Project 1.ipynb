{
 "cells": [
  {
   "cell_type": "code",
   "execution_count": 6,
   "id": "96af1caa",
   "metadata": {},
   "outputs": [
    {
     "name": "stdout",
     "output_type": "stream",
     "text": [
      "The_Pirates.csv created successfully.\n",
      "The_Yankees.csv created successfully.\n",
      "The_Bulls.csv created successfully.\n"
     ]
    }
   ],
   "source": [
    "#use import csv\n",
    "import csv\n",
    "\n",
    "#create a class called Student\n",
    "class Student:\n",
    "    def __init__(self, name, age, grade):\n",
    "        self.name = name\n",
    "        self.age = int(age)\n",
    "        self.grade = grade\n",
    "\n",
    "\n",
    "class gradeclassifier:\n",
    "    def __init__(self):\n",
    "        self.pirates = []\n",
    "        self.yankees = []\n",
    "        self.bulls = []\n",
    "\n",
    "    def classifygrades(self, students):\n",
    "        for student in students:\n",
    "            if 14 < student.age < 18:\n",
    "                self.pirates.append(student)\n",
    "            elif 18 < student.age < 22:\n",
    "                self.yankees.append(student)\n",
    "            elif student.age > 22:\n",
    "                self.bulls.append(student)\n",
    "\n",
    "    def displaycategories(self):\n",
    "        self.displaycategory(self.pirates, 'The_Pirates')\n",
    "        self.displaycategory(self.yankees, 'The_Yankees')\n",
    "        self.displaycategory(self.bulls, 'The_Bulls')\n",
    "\n",
    "    def displaycategory(self, students, category_name):\n",
    "        if not students:\n",
    "            return\n",
    "\n",
    "        file_name = f'{category_name}.csv'\n",
    "        with open(file_name, 'w', newline='') as csvfile:\n",
    "            writer = csv.writer(csvfile)\n",
    "            writer.writerow(['Name', 'Age', 'Grade'])\n",
    "            for student in students:\n",
    "                writer.writerow([student.name, student.age, student.grade])\n",
    "        print(f'{file_name} created successfully.')\n",
    "\n",
    "\n",
    "def readdata(file_path):\n",
    "    students = []\n",
    "    with open(file_path, 'r') as csvfile:\n",
    "        reader = csv.DictReader(csvfile)\n",
    "        for row in reader:\n",
    "            students.append(Student(row['Name'], row['Age'], row['Grade']))\n",
    "    return students\n",
    "\n",
    "\n",
    "file_path = 'sis.csv'\n",
    "students = readdata(file_path)\n",
    "\n",
    "classifier = gradeclassifier()\n",
    "classifier.classifygrades(students)\n",
    "classifier.displaycategories()\n"
   ]
  },
  {
   "cell_type": "code",
   "execution_count": null,
   "id": "6a28561c",
   "metadata": {},
   "outputs": [],
   "source": []
  }
 ],
 "metadata": {
  "kernelspec": {
   "display_name": "Python 3 (ipykernel)",
   "language": "python",
   "name": "python3"
  },
  "language_info": {
   "codemirror_mode": {
    "name": "ipython",
    "version": 3
   },
   "file_extension": ".py",
   "mimetype": "text/x-python",
   "name": "python",
   "nbconvert_exporter": "python",
   "pygments_lexer": "ipython3",
   "version": "3.10.9"
  }
 },
 "nbformat": 4,
 "nbformat_minor": 5
}
