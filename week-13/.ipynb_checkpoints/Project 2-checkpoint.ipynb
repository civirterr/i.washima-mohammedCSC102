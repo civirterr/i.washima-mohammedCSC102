{
 "cells": [
  {
   "cell_type": "code",
   "execution_count": 1,
   "id": "94d489f5",
   "metadata": {},
   "outputs": [
    {
     "name": "stdout",
     "output_type": "stream",
     "text": [
      "Enter the name of the vendor you are interested in: Faith Hostel Cafeteria\n",
      "Faith Hostel Cafeteria Menu:\n",
      "Main Meal            Price (N)            \n",
      "Fried Rice           400                  \n",
      "White Rice and Stew  400                  \n",
      "Jollof Rice          400                  \n",
      "Beans                200                  \n",
      "Chicken              1000                 \n"
     ]
    }
   ],
   "source": [
    "from abc import ABC, abstractmethod\n",
    "import textwrap\n",
    "\n",
    "class External_Vendors(ABC):\n",
    "    @abstractmethod\n",
    "    def menu(self):\n",
    "        pass\n",
    "\n",
    "class Cooperative_Cafeteria(External_Vendors):\n",
    "    def menu(self):\n",
    "        print(\"Cooperative Cafeteria Menu:\")\n",
    "        print_table([\n",
    "            (\"Main Meal\", \"Price (N)\"),\n",
    "            (\"Jollof Rice and Stew\", \"200\"),\n",
    "            (\"White Rice and Stew\", \"200\"),\n",
    "            (\"Fried Rice\", \"200\"),\n",
    "            (\"Salad\", \"100\"),\n",
    "            (\"Plantain\", \"100\")\n",
    "        ])\n",
    "\n",
    "class Faith_Hostel_Cafeteria(External_Vendors):\n",
    "    def menu(self):\n",
    "        print(\"Faith Hostel Cafeteria Menu:\")\n",
    "        print_table([\n",
    "            (\"Main Meal\", \"Price (N)\"),\n",
    "            (\"Fried Rice\", \"400\"),\n",
    "            (\"White Rice and Stew\", \"400\"),\n",
    "            (\"Jollof Rice\", \"400\"),\n",
    "            (\"Beans\", \"200\"),\n",
    "            (\"Chicken\", \"1000\")\n",
    "        ])\n",
    "\n",
    "class Student_Centre_Cafeteria(External_Vendors):\n",
    "    def menu(self):\n",
    "        print(\"Student Centre Cafeteria Menu:\")\n",
    "        print_table([\n",
    "            (\"Main Meal\", \"Price (N)\"),\n",
    "            (\"Chicken Fried Rice\", \"800\"),\n",
    "            (\"Pomo Sauce\", \"300\"),\n",
    "            (\"Spaghetti Jollof\", \"500\"),\n",
    "            (\"Amala/Ewedu\", \"500\"),\n",
    "            (\"Semo with Eforiro Soup\", \"500\")\n",
    "        ])\n",
    "\n",
    "def print_table(data):\n",
    "    col_width = max(len(item) for row in data for item in row) + 2\n",
    "    for row in data:\n",
    "        print(\"\".join(item.ljust(col_width) for item in row))\n",
    "\n",
    "# User input\n",
    "vendor_name = input(\"Enter the name of the vendor you are interested in: \")\n",
    "\n",
    "# Instantiate the corresponding subclass based on user input\n",
    "if vendor_name == \"Cooperative Cafeteria\":\n",
    "    vendor = Cooperative_Cafeteria()\n",
    "elif vendor_name == \"Faith Hostel Cafeteria\":\n",
    "    vendor = Faith_Hostel_Cafeteria()\n",
    "elif vendor_name == \"Student Centre Cafeteria\":\n",
    "    vendor = Student_Centre_Cafeteria()\n",
    "else:\n",
    "    print(\"Invalid vendor name!\")\n",
    "    exit()\n",
    "\n",
    "# Display the menu of the interested vendor\n",
    "vendor.menu()\n"
   ]
  },
  {
   "cell_type": "code",
   "execution_count": null,
   "id": "5e127816",
   "metadata": {},
   "outputs": [],
   "source": []
  }
 ],
 "metadata": {
  "kernelspec": {
   "display_name": "Python 3 (ipykernel)",
   "language": "python",
   "name": "python3"
  },
  "language_info": {
   "codemirror_mode": {
    "name": "ipython",
    "version": 3
   },
   "file_extension": ".py",
   "mimetype": "text/x-python",
   "name": "python",
   "nbconvert_exporter": "python",
   "pygments_lexer": "ipython3",
   "version": "3.10.9"
  }
 },
 "nbformat": 4,
 "nbformat_minor": 5
}
