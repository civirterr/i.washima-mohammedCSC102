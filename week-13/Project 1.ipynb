{
 "cells": [
  {
   "cell_type": "code",
   "execution_count": 4,
   "id": "39f7a309",
   "metadata": {},
   "outputs": [
    {
     "name": "stdout",
     "output_type": "stream",
     "text": [
      "What club do you support:TSG_Walker\n",
      "Welcome to TSG_Walker\n"
     ]
    }
   ],
   "source": [
    "from abc import ABC, abstractmethod\n",
    "#Create abstract class and abstract method.\n",
    "class coup_de_ecriva(ABC):\n",
    "    @abstractmethod\n",
    "    def Fan_page(self):\n",
    "        pass\n",
    "\n",
    "#Create classes and methods for the clubs\n",
    "class FC_Cirok(coup_de_ecriva):\n",
    "    def Fan_page(self):\n",
    "        print(\"Welcome to FC_Cirok\")\n",
    "        \n",
    "class Madiba_FC(coup_de_ecriva):\n",
    "    def Fan_page(self):\n",
    "        print(\"Welcome to Madiba_FC\")\n",
    "        \n",
    "class Blue_Jays_FC(coup_de_ecriva):\n",
    "    def Fan_page(self):\n",
    "        print(\"Welcome to Blue_Jays_FC\")\n",
    "        \n",
    "class TSG_Walker(coup_de_ecriva):\n",
    "    def Fan_page(self):\n",
    "        print(\"Welcome to TSG_Walker\")\n",
    "\n",
    "#User input\n",
    "club_name = input(\"What club do you support:\")\n",
    "\n",
    "if club_name == \"FC_Cirok\":\n",
    "    club = FC_Cirok()\n",
    "elif club_name == \"Madiba_FC\":\n",
    "    club = Madiba_FC()\n",
    "elif club_name == \"Blue_Jays_FC\":\n",
    "    club = Blue_Jays_FC()\n",
    "elif club_name == \"TSG_Walker\":\n",
    "    club = TSG_Walker()\n",
    "else:\n",
    "    print(\"Sorry, this club doesn't exist\")\n",
    "    exit()\n",
    "club.Fan_page()\n",
    "    "
   ]
  },
  {
   "cell_type": "code",
   "execution_count": null,
   "id": "36627123",
   "metadata": {},
   "outputs": [],
   "source": []
  },
  {
   "cell_type": "code",
   "execution_count": null,
   "id": "3584cf0e",
   "metadata": {},
   "outputs": [],
   "source": []
  }
 ],
 "metadata": {
  "kernelspec": {
   "display_name": "Python 3 (ipykernel)",
   "language": "python",
   "name": "python3"
  },
  "language_info": {
   "codemirror_mode": {
    "name": "ipython",
    "version": 3
   },
   "file_extension": ".py",
   "mimetype": "text/x-python",
   "name": "python",
   "nbconvert_exporter": "python",
   "pygments_lexer": "ipython3",
   "version": "3.10.9"
  }
 },
 "nbformat": 4,
 "nbformat_minor": 5
}
