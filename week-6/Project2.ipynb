{
 "cells": [
  {
   "cell_type": "code",
   "execution_count": 2,
   "id": "168bb463",
   "metadata": {},
   "outputs": [
    {
     "ename": "SyntaxError",
     "evalue": "invalid syntax (3256304087.py, line 5)",
     "output_type": "error",
     "traceback": [
      "\u001b[1;36m  Cell \u001b[1;32mIn[2], line 5\u001b[1;36m\u001b[0m\n\u001b[1;33m    \"Exports\": [\"Cocoa butter\", \"Cocoa cake\", \"Cocoa liquor\"],\u001b[0m\n\u001b[1;37m             ^\u001b[0m\n\u001b[1;31mSyntaxError\u001b[0m\u001b[1;31m:\u001b[0m invalid syntax\n"
     ]
    }
   ],
   "source": [
    "import pandas as pd\n",
    "\n",
    "# create a dictionary of the products and brands\n",
    "products = [\n",
    "    \"Exports\": [\"Cocoa butter\", \"Cocoa cake\", \"Cocoa liquor\"],\n",
    "    \"Segments\": [\"Intermediate Cocoa Products\", \"Intermediate Cocoa Products\", \"Intermediate Cocoa Products\"],\n",
    "    \"Brands\": [\"Cocoa Butter\", \"Cocoa Cake\", \"Cocoa Liquor\"]\n",
    "    ]\n",
    "\n",
    "# create a DataFrame from the dictionary\n",
    "exports_df = pd.DataFrame(products_dict)\n",
    "\n",
    "# create a dictionary of the segments and brands\n",
    "segments [\n",
    "    \"Segments\" [\"Refreshment Beverages\", \"Refreshment Beverages\", \"Confectionery\", \"Confectionery\", \"Intermediate Cocoa Products\", \"Intermediate Cocoa Products\", \"Intermediate Cocoa Products\", \"Intermediate Cocoa Products\"],\n",
    "    \"Brands\": [\"Bournvita\", \"Hot Chocolate\", \"Tom Tom Classic\", \"Tom Tom Strawberry\", \"Cocoa Powder\", \"Cocoa Butter\", \"Cocoa Liquor\", \"Cocoa Cake\"]\n",
    "]\n",
    "\n",
    "# create a DataFrame from the dictionary\n",
    "segments_df = pd.DataFrame(segments_dict)\n",
    "\n",
    "# concatenate the two DataFrames vertically\n",
    "cadbury_df = pd.concat([exports_df, segments_df])\n",
    "\n",
    "# save the DataFrame as a .csv file\n",
    "cadbury_df(\"cadbury_market.csv\",)\n"
   ]
  },
  {
   "cell_type": "code",
   "execution_count": null,
   "id": "2fb42085",
   "metadata": {},
   "outputs": [],
   "source": []
  }
 ],
 "metadata": {
  "kernelspec": {
   "display_name": "Python 3 (ipykernel)",
   "language": "python",
   "name": "python3"
  },
  "language_info": {
   "codemirror_mode": {
    "name": "ipython",
    "version": 3
   },
   "file_extension": ".py",
   "mimetype": "text/x-python",
   "name": "python",
   "nbconvert_exporter": "python",
   "pygments_lexer": "ipython3",
   "version": "3.10.9"
  }
 },
 "nbformat": 4,
 "nbformat_minor": 5
}
