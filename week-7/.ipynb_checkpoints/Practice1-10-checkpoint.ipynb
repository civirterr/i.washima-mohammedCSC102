{
 "cells": [
  {
   "cell_type": "code",
   "execution_count": 1,
   "id": "680b556d",
   "metadata": {},
   "outputs": [
    {
     "name": "stdout",
     "output_type": "stream",
     "text": [
      "I'm first to call user defined function!\n",
      "Again second to call the same function\n"
     ]
    }
   ],
   "source": [
    "def printme(str):\n",
    "    #This is a print function\n",
    "    print(str);\n",
    "    return;\n",
    "\n",
    "printme(\"I'm first to call user defined function!\");\n",
    "printme(\"Again second to call the same function\");"
   ]
  },
  {
   "cell_type": "code",
   "execution_count": 2,
   "id": "2000bee9",
   "metadata": {},
   "outputs": [
    {
     "name": "stdout",
     "output_type": "stream",
     "text": [
      "Values inside the function: [10, 20, 30, [1, 2, 3, 4]]\n",
      "Values outside the function: [10, 20, 30, [1, 2, 3, 4]]\n"
     ]
    }
   ],
   "source": [
    "def changeme(mylist):\n",
    "    #This is a passed list\n",
    "    mylist.append([1,2,3,4])\n",
    "    print(\"Values inside the function:\",mylist)\n",
    "    return\n",
    "mylist = [10,20,30]\n",
    "changeme(mylist)\n",
    "print(\"Values outside the function:\",mylist) "
   ]
  },
  {
   "cell_type": "code",
   "execution_count": 3,
   "id": "e1d5f8bd",
   "metadata": {},
   "outputs": [
    {
     "name": "stdout",
     "output_type": "stream",
     "text": [
      "Values inside the function: [1, 2, 3, 4]\n",
      "Values outside the function: [10, 20, 30]\n"
     ]
    }
   ],
   "source": [
    "def changeme(mylist):\n",
    "    #This changes a passed list\n",
    "    mylist = [1,2,3,4];\n",
    "    print(\"Values inside the function:\",mylist)\n",
    "    return\n",
    "mylist = [10,20,30];\n",
    "changeme(mylist);\n",
    "print(\"Values outside the function:\",mylist)"
   ]
  },
  {
   "cell_type": "code",
   "execution_count": 5,
   "id": "d787bffa",
   "metadata": {},
   "outputs": [
    {
     "name": "stdout",
     "output_type": "stream",
     "text": [
      "My String\n"
     ]
    }
   ],
   "source": [
    "def printme(str):\n",
    "    #This prints a passed string\n",
    "    print(str);\n",
    "    return;\n",
    "str = (\"My String\")\n",
    "printme(\"My String\");\n",
    "    "
   ]
  },
  {
   "cell_type": "code",
   "execution_count": 6,
   "id": "d103e917",
   "metadata": {},
   "outputs": [
    {
     "name": "stdout",
     "output_type": "stream",
     "text": [
      "Name: Miki\n",
      "Age 50\n"
     ]
    }
   ],
   "source": [
    "def printinfo(name,age):\n",
    "    #Test function\n",
    "    print(\"Name:\",name);\n",
    "    print(\"Age\",age);\n",
    "    return;\n",
    "printinfo(age=50, name=\"Miki\");"
   ]
  },
  {
   "cell_type": "code",
   "execution_count": 7,
   "id": "e2fa5605",
   "metadata": {},
   "outputs": [
    {
     "name": "stdout",
     "output_type": "stream",
     "text": [
      "Name: Miki\n",
      "Age: 50\n",
      "Name: Miki\n",
      "Age: 35\n"
     ]
    }
   ],
   "source": [
    "def printinfo(name, age = 35):\n",
    "    #Test function\n",
    "    print(\"Name:\",name);\n",
    "    print(\"Age:\",age);\n",
    "    return;\n",
    "printinfo(age=50, name=\"Miki\");\n",
    "printinfo(name=\"Miki\");"
   ]
  },
  {
   "cell_type": "code",
   "execution_count": 18,
   "id": "445e8609",
   "metadata": {},
   "outputs": [
    {
     "name": "stdout",
     "output_type": "stream",
     "text": [
      "Output is: \n",
      "10\n"
     ]
    }
   ],
   "source": [
    "def printinfo( arg1, *vartuple ):\n",
    "    #This is test\n",
    "    print(\"Output is: \")\n",
    "    print(arg1)\n",
    "    for var in vartuple:\n",
    "        print(var)\n",
    "        return;\n",
    "printinfo( 10 );"
   ]
  },
  {
   "cell_type": "code",
   "execution_count": 20,
   "id": "2c7706b9",
   "metadata": {},
   "outputs": [
    {
     "name": "stdout",
     "output_type": "stream",
     "text": [
      "Inside the function local total:  30\n",
      "Outside the function global total:  50\n"
     ]
    }
   ],
   "source": [
    "total = 50; #This is a global variable.\n",
    "def sum( arg1, arg2 ):\n",
    "    #Add both the parameters\n",
    "    total = arg1 + arg2;\n",
    "    print(\"Inside the function local total: \", total)\n",
    "    return total;\n",
    "#Now you can call sum function\n",
    "sum( 10,20 );\n",
    "print(\"Outside the function global total: \", total)"
   ]
  },
  {
   "cell_type": "code",
   "execution_count": 21,
   "id": "0a45ea45",
   "metadata": {},
   "outputs": [
    {
     "name": "stdout",
     "output_type": "stream",
     "text": [
      "Lawal Edward Tolu Tina\n",
      "Mary\n"
     ]
    }
   ],
   "source": [
    "def swap(x,y):\n",
    "    global a\n",
    "    a = \"Lawal\"\n",
    "    x,y = y,x\n",
    "    b = \"Chris\"\n",
    "    b = \"Edward\"\n",
    "    c = \"Lola\"\n",
    "    print(a,b,x,y)\n",
    "    a = \"Mary\"\n",
    "swap(\"Tina\",\"Tolu\")\n",
    "print(a)"
   ]
  },
  {
   "cell_type": "code",
   "execution_count": null,
   "id": "b1f235fb",
   "metadata": {},
   "outputs": [],
   "source": []
  }
 ],
 "metadata": {
  "kernelspec": {
   "display_name": "Python 3 (ipykernel)",
   "language": "python",
   "name": "python3"
  },
  "language_info": {
   "codemirror_mode": {
    "name": "ipython",
    "version": 3
   },
   "file_extension": ".py",
   "mimetype": "text/x-python",
   "name": "python",
   "nbconvert_exporter": "python",
   "pygments_lexer": "ipython3",
   "version": "3.10.9"
  }
 },
 "nbformat": 4,
 "nbformat_minor": 5
}
