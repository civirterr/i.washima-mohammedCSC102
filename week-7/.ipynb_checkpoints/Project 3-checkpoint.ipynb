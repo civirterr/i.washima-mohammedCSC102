{
 "cells": [
  {
   "cell_type": "code",
   "execution_count": 1,
   "id": "56425213",
   "metadata": {},
   "outputs": [
    {
     "name": "stdout",
     "output_type": "stream",
     "text": [
      "Enter candidate name: Ella\n",
      "Enter department: Computer science\n",
      "Enter JAMB score: 220\n",
      "Enter number of subject credits: 5\n",
      "Did the candidate pass the interview? (yes/no): no\n",
      "Invalid department specified.\n"
     ]
    }
   ],
   "source": [
    "import csv\n",
    "\n",
    "def check_admission(candidate_name, department, jamb_score, subject_credits, interview_passed):\n",
    "    if department == \"Computer Science\":\n",
    "        if jamb_score >= 230 and subject_credits >= 5 and interview_passed:\n",
    "            admission_status = \"Admitted\"\n",
    "        else:\n",
    "            admission_status = \"Not Admitted\"\n",
    "    elif department == \"Mass Communication\":\n",
    "        if jamb_score >= 220 and subject_credits >= 5 and interview_passed:\n",
    "            admission_status = \"Admitted\"\n",
    "        else:\n",
    "            admission_status = \"Not Admitted\"\n",
    "    else:\n",
    "        admission_status = \"Invalid Department\"\n",
    "\n",
    "    with open(f\"{admission_status.lower()}.csv\", \"a\", newline=\"\") as file:\n",
    "        writer = csv.writer(file)\n",
    "        writer.writerow([candidate_name, jamb_score, subject_credits, interview_passed])\n",
    "\n",
    "    if admission_status == \"Admitted\":\n",
    "        print(f\"Congratulations, {candidate_name}! You have been admitted to the {department} Department.\")\n",
    "    elif admission_status == \"Not Admitted\":\n",
    "        print(f\"Sorry, {candidate_name}. You did not meet the admission requirements for the {department} Department.\")\n",
    "    else:\n",
    "        print(f\"Invalid department specified.\")\n",
    "\n",
    "# Taking user input for candidate details\n",
    "candidate_name = input(\"Enter candidate name: \")\n",
    "department = input(\"Enter department: \")\n",
    "jamb_score = int(input(\"Enter JAMB score: \"))\n",
    "subject_credits = int(input(\"Enter number of subject credits: \"))\n",
    "interview_passed = input(\"Did the candidate pass the interview? (yes/no): \").lower() == \"yes\"\n",
    "\n",
    "# Checking admission status\n",
    "check_admission(candidate_name, department, jamb_score, subject_credits, interview_passed)\n"
   ]
  },
  {
   "cell_type": "code",
   "execution_count": null,
   "id": "2de5b3f7",
   "metadata": {},
   "outputs": [],
   "source": []
  }
 ],
 "metadata": {
  "kernelspec": {
   "display_name": "Python 3 (ipykernel)",
   "language": "python",
   "name": "python3"
  },
  "language_info": {
   "codemirror_mode": {
    "name": "ipython",
    "version": 3
   },
   "file_extension": ".py",
   "mimetype": "text/x-python",
   "name": "python",
   "nbconvert_exporter": "python",
   "pygments_lexer": "ipython3",
   "version": "3.10.9"
  }
 },
 "nbformat": 4,
 "nbformat_minor": 5
}
