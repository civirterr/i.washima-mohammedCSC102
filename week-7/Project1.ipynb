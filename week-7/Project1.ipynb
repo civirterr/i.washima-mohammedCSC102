{
 "cells": [
  {
   "cell_type": "markdown",
   "id": "99fe673a",
   "metadata": {},
   "source": []
  },
  {
   "cell_type": "code",
   "execution_count": 10,
   "id": "52b45614",
   "metadata": {},
   "outputs": [
    {
     "name": "stdout",
     "output_type": "stream",
     "text": [
      "Enter your name: Adeniran Oluwatamilore\n",
      "Enter your department: Logistics\n",
      "Employee does not exist.\n"
     ]
    }
   ],
   "source": [
    "import csv\n",
    "\n",
    "def verify_employee(name, department):\n",
    "    with open('jt-ventures.csv', 'r') as file:\n",
    "        reader = csv.DictReader(file)\n",
    "        for row in reader:\n",
    "            full_name = f\"{'firstname'} {'surname'}\"\n",
    "            if full_name.lower() == name.lower() and row['department'].lower() == department.lower():\n",
    "                print(f\"Welcome, {full_name}!\")\n",
    "                print(\"Company Profile:\")\n",
    "                print(f\"Name: {full_name}\")\n",
    "                print(f\"Department: {row['department']}\")\n",
    "                return\n",
    "\n",
    "    print(\"Employee does not exist.\")\n",
    "\n",
    "# Example usage\n",
    "name = input(\"Enter your name: \")\n",
    "department = input(\"Enter your department: \")\n",
    "\n",
    "verify_employee(name, department)\n"
   ]
  },
  {
   "cell_type": "code",
   "execution_count": null,
   "id": "21a57aaa",
   "metadata": {},
   "outputs": [],
   "source": []
  },
  {
   "cell_type": "code",
   "execution_count": null,
   "id": "b29dde5d",
   "metadata": {},
   "outputs": [],
   "source": []
  }
 ],
 "metadata": {
  "kernelspec": {
   "display_name": "Python 3 (ipykernel)",
   "language": "python",
   "name": "python3"
  },
  "language_info": {
   "codemirror_mode": {
    "name": "ipython",
    "version": 3
   },
   "file_extension": ".py",
   "mimetype": "text/x-python",
   "name": "python",
   "nbconvert_exporter": "python",
   "pygments_lexer": "ipython3",
   "version": "3.10.9"
  }
 },
 "nbformat": 4,
 "nbformat_minor": 5
}
