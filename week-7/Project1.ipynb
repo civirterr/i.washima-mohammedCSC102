{
 "cells": [
  {
   "cell_type": "code",
   "execution_count": 1,
   "id": "761e2053",
   "metadata": {},
   "outputs": [],
   "source": [
    "# Import the library using pandas\n",
    "import pandas as pd\n",
    "\n",
    "# Load the employee data from the csv file\n",
    "employee_data = pd.read_csv('jt-ventures.csv')\n",
    "\n",
    "def employee_details(name, department):\n",
    "    # Check if employee exists in the dataset\n",
    "    employee = employee_data[(employee_data['Name'] == name) & (employee_data['Department'] == department)]\n",
    "    \n",
    "    if employee.empty:\n",
    "        print(f\"Sorry, we couldn't find an employee named {name} in the {department} department.\")\n",
    "    else:\n",
    "        print(f\"Welcome, {name} from the {department} department!\")\n",
    "        print(\"Here's a brief company profile:\")\n",
    "        print(\"-------------------------------\")\n",
    "        print(f\"Company Name: {employee_data['Company Name'].iloc[0]}\")\n",
    "        print(f\"Address: {employee_data['Address'].iloc[0]}\")\n",
    "        print(f\"Phone: {employee_data['Phone'].iloc[0]}\")\n",
    "        print(f\"Email: {employee_data['Email'].iloc[0]}\")\n"
   ]
  },
  {
   "cell_type": "code",
   "execution_count": null,
   "id": "52b45614",
   "metadata": {},
   "outputs": [],
   "source": []
  }
 ],
 "metadata": {
  "kernelspec": {
   "display_name": "Python 3 (ipykernel)",
   "language": "python",
   "name": "python3"
  },
  "language_info": {
   "codemirror_mode": {
    "name": "ipython",
    "version": 3
   },
   "file_extension": ".py",
   "mimetype": "text/x-python",
   "name": "python",
   "nbconvert_exporter": "python",
   "pygments_lexer": "ipython3",
   "version": "3.10.9"
  }
 },
 "nbformat": 4,
 "nbformat_minor": 5
}
