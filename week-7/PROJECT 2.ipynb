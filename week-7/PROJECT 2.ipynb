{
 "cells": [
  {
   "cell_type": "code",
   "execution_count": 3,
   "id": "fdf14fad",
   "metadata": {},
   "outputs": [
    {
     "name": "stdout",
     "output_type": "stream",
     "text": [
      "Enter the delivery location: PAU\n",
      "Enter the weight of the package in kg: 40\n",
      "Sorry, we do not deliver there.\n"
     ]
    }
   ],
   "source": [
    "def delivery_charge(location, weight):\n",
    "    if location == \"Ibeju-Lekki\":\n",
    "        if weight >= 10:\n",
    "            return 2000\n",
    "        else:\n",
    "            return 1500\n",
    "    elif location == \"Epe\":\n",
    "        if weight >= 10:\n",
    "            return 5000\n",
    "        else:\n",
    "            return 4000\n",
    "    else:\n",
    "        return \"Sorry, we do not deliver there.\"\n",
    "\n",
    "# Taking user input for location and weight\n",
    "location = input(\"Enter the delivery location: \")\n",
    "weight = float(input(\"Enter the weight of the package in kg: \"))\n",
    "\n",
    "# Calculating the delivery charge\n",
    "charge = delivery_charge(location, weight)\n",
    "\n",
    "# Displaying the result\n",
    "if type(charge) == str:\n",
    "    print(charge)\n",
    "else:\n",
    "    print(\"The delivery charge is N{}\".format(charge))\n"
   ]
  },
  {
   "cell_type": "code",
   "execution_count": null,
   "id": "9afb32d9",
   "metadata": {},
   "outputs": [],
   "source": []
  }
 ],
 "metadata": {
  "kernelspec": {
   "display_name": "Python 3 (ipykernel)",
   "language": "python",
   "name": "python3"
  },
  "language_info": {
   "codemirror_mode": {
    "name": "ipython",
    "version": 3
   },
   "file_extension": ".py",
   "mimetype": "text/x-python",
   "name": "python",
   "nbconvert_exporter": "python",
   "pygments_lexer": "ipython3",
   "version": "3.10.9"
  }
 },
 "nbformat": 4,
 "nbformat_minor": 5
}
