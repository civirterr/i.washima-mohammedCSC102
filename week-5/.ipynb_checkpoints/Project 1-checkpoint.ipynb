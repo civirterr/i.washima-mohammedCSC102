{
 "cells": [
  {
   "cell_type": "code",
   "execution_count": 1,
   "id": "573c9903",
   "metadata": {},
   "outputs": [],
   "source": [
    "# Create a list for girls \n",
    "\n",
    "Names = ['Samantha', 'Jada', 'Jane', 'Claire', 'Elizabeth', 'Mary', 'Susan', 'Waje', 'Taibat', 'Lillian']\n",
    "Age = [17,16,17,18,16,18,17,20,19,17]\n",
    "Height = [5.5,6.0,5.4,5.9,5.6,5.5,6.1,6.0,5.7,5.5]\n",
    "Scores = [80,85,70,60,76,66,87,95,50,49] \n",
    "\n",
    "# Create one for boys \n",
    "Nmaes = ['Charles', 'Jude', 'James', 'Kelvin', 'Biodun', 'Wale', 'Kunle', 'Matthew', 'Tom', 'Kayode']\n",
    "Age = [19,16,18,17,20,19,16,18,17,19]\n",
    "Height = [5.7,5.9,5.8,6.1,5.9,5.5,6.1,5.4,5.8,5.7]\n",
    "Scores = [74,87,75,68,66,78,87,98,54,60]"
   ]
  },
  {
   "cell_type": "code",
   "execution_count": null,
   "id": "5d4d6bfa",
   "metadata": {},
   "outputs": [],
   "source": []
  }
 ],
 "metadata": {
  "kernelspec": {
   "display_name": "Python 3 (ipykernel)",
   "language": "python",
   "name": "python3"
  },
  "language_info": {
   "codemirror_mode": {
    "name": "ipython",
    "version": 3
   },
   "file_extension": ".py",
   "mimetype": "text/x-python",
   "name": "python",
   "nbconvert_exporter": "python",
   "pygments_lexer": "ipython3",
   "version": "3.10.9"
  }
 },
 "nbformat": 4,
 "nbformat_minor": 5
}
