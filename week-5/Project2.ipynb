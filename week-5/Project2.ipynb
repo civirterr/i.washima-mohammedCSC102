{
 "cells": [
  {
   "cell_type": "code",
   "execution_count": 7,
   "id": "6fea4419",
   "metadata": {},
   "outputs": [
    {
     "name": "stdout",
     "output_type": "stream",
     "text": [
      "How many years of experience does the staff have?55\n",
      "How old is the staff?60\n",
      "The Annual Tax Revenue, ATR is: 5600000\n"
     ]
    }
   ],
   "source": [
    "years_of_experience= int(input(\"How many years of experience does the staff have?\"))\n",
    "age= int(input(\"How old is the staff?\"))\n",
    "atr = 550000\n",
    "\n",
    "if years_of_experience >25:\n",
    "    if age >= 55:\n",
    "        atr = 5600000\n",
    "elif years_of_experience >20:\n",
    "    if age >= 45:\n",
    "        atr = 4480000\n",
    "elif years_of_experience >10:\n",
    "    if age >= 35:\n",
    "        atr = 1500000\n",
    "\n",
    "print(f\"The Annual Tax Revenue, ATR is: {atr}\")"
   ]
  },
  {
   "cell_type": "code",
   "execution_count": null,
   "id": "70f435df",
   "metadata": {},
   "outputs": [],
   "source": []
  },
  {
   "cell_type": "code",
   "execution_count": null,
   "id": "37fb4522",
   "metadata": {},
   "outputs": [],
   "source": []
  },
  {
   "cell_type": "code",
   "execution_count": null,
   "id": "c19beb6d",
   "metadata": {},
   "outputs": [],
   "source": []
  },
  {
   "cell_type": "code",
   "execution_count": null,
   "id": "b25465c2",
   "metadata": {},
   "outputs": [],
   "source": []
  },
  {
   "cell_type": "code",
   "execution_count": null,
   "id": "14c013ee",
   "metadata": {},
   "outputs": [],
   "source": []
  },
  {
   "cell_type": "code",
   "execution_count": null,
   "id": "0fd4043f",
   "metadata": {},
   "outputs": [],
   "source": []
  },
  {
   "cell_type": "code",
   "execution_count": null,
   "id": "6efd2f1d",
   "metadata": {},
   "outputs": [],
   "source": []
  },
  {
   "cell_type": "code",
   "execution_count": 1,
   "id": "60e67718",
   "metadata": {},
   "outputs": [
    {
     "ename": "NameError",
     "evalue": "name 'zz' is not defined",
     "output_type": "error",
     "traceback": [
      "\u001b[1;31m---------------------------------------------------------------------------\u001b[0m",
      "\u001b[1;31mNameError\u001b[0m                                 Traceback (most recent call last)",
      "Cell \u001b[1;32mIn[1], line 1\u001b[0m\n\u001b[1;32m----> 1\u001b[0m \u001b[43mzz\u001b[49m\n",
      "\u001b[1;31mNameError\u001b[0m: name 'zz' is not defined"
     ]
    }
   ],
   "source": []
  },
  {
   "cell_type": "code",
   "execution_count": null,
   "id": "73ebf75e",
   "metadata": {},
   "outputs": [],
   "source": []
  }
 ],
 "metadata": {
  "kernelspec": {
   "display_name": "Python 3 (ipykernel)",
   "language": "python",
   "name": "python3"
  },
  "language_info": {
   "codemirror_mode": {
    "name": "ipython",
    "version": 3
   },
   "file_extension": ".py",
   "mimetype": "text/x-python",
   "name": "python",
   "nbconvert_exporter": "python",
   "pygments_lexer": "ipython3",
   "version": "3.10.9"
  }
 },
 "nbformat": 4,
 "nbformat_minor": 5
}
