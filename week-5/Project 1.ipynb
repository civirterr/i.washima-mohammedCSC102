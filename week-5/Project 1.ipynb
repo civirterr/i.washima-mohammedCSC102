{
 "cells": [
  {
   "cell_type": "code",
   "execution_count": 16,
   "id": "573c9903",
   "metadata": {},
   "outputs": [
    {
     "name": "stdout",
     "output_type": "stream",
     "text": [
      "Name|Age|Height|Scores|\n",
      "Samantha | 17 | 5.5 | 80\n",
      "Jada | 16 | 6.0 | 85\n",
      "Jane | 17 | 5.4 | 70\n",
      "Claire | 18 | 5.9 | 60\n",
      "Elizabeth | 16 | 5.6 | 76\n",
      "Mary | 18 | 5.5 | 66\n",
      "Susan | 17 | 6.1 | 87\n",
      "Waje | 20 | 6.0 | 95\n",
      "Taibat | 19 | 5.7 | 50\n",
      "Lillian | 17 | 5.5 | 49\n",
      "Name|Age|Height|Scores|\n",
      "Charles | 19 | 5.7 | 74\n",
      "Jude | 16 | 5.9 | 87\n",
      "James | 18 | 5.8 | 75\n",
      "Kelvin | 17 | 6.1 | 68\n",
      "Biodun | 20 | 5.9 | 66\n",
      "Wale | 19 | 5.5 | 78\n",
      "Kunle | 16 | 6.1 | 87\n",
      "Matthew | 18 | 5.4 | 98\n",
      "Tom | 17 | 5.8 | 54\n",
      "Kayode | 19 | 5.7 | 60\n"
     ]
    }
   ],
   "source": [
    "# Create a list for girls \n",
    "girls= [\n",
    "('Samantha', 17, 5.5, 80),('Jada',16,6.0,85),('Jane',17,5.4,70),('Claire',18,5.9,60),('Elizabeth',16,5.6,76), \n",
    "    ('Mary',18,5.5,66),('Susan',17,6.1,87),('Waje',20,6.0,95),('Taibat',19,5.7,50),('Lillian',17,5.5,49)]\n",
    "\n",
    "# Table header\n",
    "print(\"Name|Age|Height|Scores|\")\n",
    "for girl in girls:\n",
    "    print(f\"{girl[0]} | {girl[1]} | {girl[2]} | {girl[3]}\")\n",
    "\n",
    "# Create a list for boys \n",
    "Boys= [\n",
    "('Charles',19,5.7,74),('Jude',16,5.9,87),('James',18,5.8,75),('Kelvin',17,6.1,68),('Biodun',20,5.9,66), \n",
    "    ('Wale',19,5.5,78),('Kunle',16,6.1,87),('Matthew',18,5.4,98),('Tom',17,5.8,54),('Kayode',19,5.7,60)]\n",
    "\n",
    "# Table header\n",
    "print(\"Name|Age|Height|Scores|\")\n",
    "for boy in Boys:\n",
    "    print(f\"{boy[0]} | {boy[1]} | {boy[2]} | {boy[3]}\")\n"
   ]
  },
  {
   "cell_type": "code",
   "execution_count": null,
   "id": "5d4d6bfa",
   "metadata": {},
   "outputs": [],
   "source": []
  }
 ],
 "metadata": {
  "kernelspec": {
   "display_name": "Python 3 (ipykernel)",
   "language": "python",
   "name": "python3"
  },
  "language_info": {
   "codemirror_mode": {
    "name": "ipython",
    "version": 3
   },
   "file_extension": ".py",
   "mimetype": "text/x-python",
   "name": "python",
   "nbconvert_exporter": "python",
   "pygments_lexer": "ipython3",
   "version": "3.10.9"
  }
 },
 "nbformat": 4,
 "nbformat_minor": 5
}
